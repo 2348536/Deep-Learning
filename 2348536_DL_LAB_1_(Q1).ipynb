{
  "nbformat": 4,
  "nbformat_minor": 0,
  "metadata": {
    "colab": {
      "provenance": [],
      "authorship_tag": "ABX9TyPFU8HeaiVu8iSBri98s9ft",
      "include_colab_link": true
    },
    "kernelspec": {
      "name": "python3",
      "display_name": "Python 3"
    },
    "language_info": {
      "name": "python"
    }
  },
  "cells": [
    {
      "cell_type": "markdown",
      "metadata": {
        "id": "view-in-github",
        "colab_type": "text"
      },
      "source": [
        "<a href=\"https://colab.research.google.com/github/2348536/Deep-Learning/blob/main/2348536_DL_LAB_1_(Q1).ipynb\" target=\"_parent\"><img src=\"https://colab.research.google.com/assets/colab-badge.svg\" alt=\"Open In Colab\"/></a>"
      ]
    },
    {
      "cell_type": "code",
      "execution_count": 1,
      "metadata": {
        "id": "xC6Z4zIRFiZB"
      },
      "outputs": [],
      "source": [
        "import numpy as np\n",
        "\n",
        "class Perceptron:\n",
        "    def __init__(self, input_size, learning_rate=0.1, epochs=1000):\n",
        "        self.weights = np.zeros(input_size + 1)  # Initialize weights, including bias\n",
        "        self.learning_rate = learning_rate\n",
        "        self.epochs = epochs\n",
        "\n",
        "    def predict(self, inputs):\n",
        "        summation = np.dot(self.weights, np.insert(inputs, 0, 1))  # Add bias term\n",
        "        return 1 if summation > 0 else 0\n",
        "\n",
        "    def train(self, training_data, target):\n",
        "        for epoch in range(self.epochs):\n",
        "            errors = 0\n",
        "            for inputs, target_output in zip(training_data, target):\n",
        "                prediction = self.predict(inputs)\n",
        "                error = target_output - prediction\n",
        "                errors += abs(error)\n",
        "                self.weights[1:] += self.learning_rate * error * np.array(inputs)\n",
        "                self.weights[0] += self.learning_rate * error  # Update bias weight\n",
        "\n",
        "            if errors == 0:\n",
        "                print(f\"Converged at epoch {epoch + 1}\")\n",
        "                break\n",
        "\n",
        "            if epoch == self.epochs - 1:\n",
        "                print(\"Perceptron did not converge within the specified number of epochs.\")\n",
        "\n"
      ]
    },
    {
      "cell_type": "code",
      "source": [
        "# AND function\n",
        "and_training_data = [\n",
        "    [0, 0],\n",
        "    [0, 1],\n",
        "    [1, 0],\n",
        "    [1, 1]\n",
        "]\n",
        "and_target = [0, 0, 0, 1]\n",
        "\n",
        "and_perceptron = Perceptron(input_size=2)\n",
        "and_perceptron.train(and_training_data, and_target)\n",
        "\n",
        "# Display results\n",
        "print(\"AND Function:\")\n",
        "for inputs, target in zip(and_training_data, and_target):\n",
        "    prediction = and_perceptron.predict(inputs)\n",
        "    print(f\"Inputs: {inputs}, Target: {target}, Prediction: {prediction}\")\n"
      ],
      "metadata": {
        "colab": {
          "base_uri": "https://localhost:8080/"
        },
        "id": "I1ysLMHhFz47",
        "outputId": "0d2f141a-cb11-4942-fca7-edcd473c1ffe"
      },
      "execution_count": 2,
      "outputs": [
        {
          "output_type": "stream",
          "name": "stdout",
          "text": [
            "Converged at epoch 6\n",
            "AND Function:\n",
            "Inputs: [0, 0], Target: 0, Prediction: 0\n",
            "Inputs: [0, 1], Target: 0, Prediction: 0\n",
            "Inputs: [1, 0], Target: 0, Prediction: 0\n",
            "Inputs: [1, 1], Target: 1, Prediction: 1\n"
          ]
        }
      ]
    },
    {
      "cell_type": "code",
      "source": [
        "# OR function\n",
        "or_training_data = [\n",
        "    [0, 0],\n",
        "    [0, 1],\n",
        "    [1, 0],\n",
        "    [1, 1]\n",
        "]\n",
        "or_target = [0, 1, 1, 1]\n",
        "\n",
        "or_perceptron = Perceptron(input_size=2)\n",
        "or_perceptron.train(or_training_data, or_target)\n",
        "\n",
        "# Display results\n",
        "print(\"\\nOR Function:\")\n",
        "for inputs, target in zip(or_training_data, or_target):\n",
        "    prediction = or_perceptron.predict(inputs)\n",
        "    print(f\"Inputs: {inputs}, Target: {target}, Prediction: {prediction}\")\n"
      ],
      "metadata": {
        "colab": {
          "base_uri": "https://localhost:8080/"
        },
        "id": "s73gLzneFz7P",
        "outputId": "04d8c153-3976-4fbc-aa83-4011dafabdb2"
      },
      "execution_count": 3,
      "outputs": [
        {
          "output_type": "stream",
          "name": "stdout",
          "text": [
            "Converged at epoch 4\n",
            "\n",
            "OR Function:\n",
            "Inputs: [0, 0], Target: 0, Prediction: 0\n",
            "Inputs: [0, 1], Target: 1, Prediction: 1\n",
            "Inputs: [1, 0], Target: 1, Prediction: 1\n",
            "Inputs: [1, 1], Target: 1, Prediction: 1\n"
          ]
        }
      ]
    },
    {
      "cell_type": "code",
      "source": [
        "# NAND function\n",
        "nand_training_data = [\n",
        "    [0, 0],\n",
        "    [0, 1],\n",
        "    [1, 0],\n",
        "    [1, 1]\n",
        "]\n",
        "nand_target = [1, 1, 1, 0]\n",
        "\n",
        "nand_perceptron = Perceptron(input_size=2)\n",
        "nand_perceptron.train(nand_training_data, nand_target)\n",
        "\n",
        "# Display results\n",
        "print(\"\\nNAND Function:\")\n",
        "for inputs, target in zip(nand_training_data, nand_target):\n",
        "    prediction = nand_perceptron.predict(inputs)\n",
        "    print(f\"Inputs: {inputs}, Target: {target}, Prediction: {prediction}\")\n"
      ],
      "metadata": {
        "colab": {
          "base_uri": "https://localhost:8080/"
        },
        "id": "BdxbAm8xFz9e",
        "outputId": "e4ae85c4-6279-4066-96d3-fe8b336fd8c9"
      },
      "execution_count": 4,
      "outputs": [
        {
          "output_type": "stream",
          "name": "stdout",
          "text": [
            "Converged at epoch 4\n",
            "\n",
            "NAND Function:\n",
            "Inputs: [0, 0], Target: 1, Prediction: 1\n",
            "Inputs: [0, 1], Target: 1, Prediction: 1\n",
            "Inputs: [1, 0], Target: 1, Prediction: 1\n",
            "Inputs: [1, 1], Target: 0, Prediction: 0\n"
          ]
        }
      ]
    },
    {
      "cell_type": "code",
      "source": [
        "# XOR function\n",
        "xor_training_data = [\n",
        "    [0, 0],\n",
        "    [0, 1],\n",
        "    [1, 0],\n",
        "    [1, 1]\n",
        "]\n",
        "xor_target = [0, 1, 1, 0]\n",
        "\n",
        "xor_perceptron = Perceptron(input_size=2)\n",
        "xor_perceptron.train(xor_training_data, xor_target)\n",
        "\n",
        "# Display results\n",
        "print(\"\\nXOR Function:\")\n",
        "for inputs, target in zip(xor_training_data, xor_target):\n",
        "    prediction = xor_perceptron.predict(inputs)\n",
        "    print(f\"Inputs: {inputs}, Target: {target}, Prediction: {prediction}\")\n"
      ],
      "metadata": {
        "colab": {
          "base_uri": "https://localhost:8080/"
        },
        "id": "Ho-lWkMpF0A6",
        "outputId": "669dd788-b6ee-49d9-c1bf-7a42d3df6744"
      },
      "execution_count": 5,
      "outputs": [
        {
          "output_type": "stream",
          "name": "stdout",
          "text": [
            "Perceptron did not converge within the specified number of epochs.\n",
            "\n",
            "XOR Function:\n",
            "Inputs: [0, 0], Target: 0, Prediction: 1\n",
            "Inputs: [0, 1], Target: 1, Prediction: 1\n",
            "Inputs: [1, 0], Target: 1, Prediction: 0\n",
            "Inputs: [1, 1], Target: 0, Prediction: 0\n"
          ]
        }
      ]
    }
  ]
}